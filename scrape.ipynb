{
 "cells": [
  {
   "cell_type": "code",
   "execution_count": null,
   "metadata": {},
   "outputs": [],
   "source": [
    "from bs4 import BeautifulSoup\n",
    "import requests\n",
    "\n",
    "url = 'https://www.eprbulletsafsc.com/'\n",
    "page = requests.get(url)\n",
    "soup = BeautifulSoup(page.content, 'html.parser')"
   ]
  },
  {
   "cell_type": "code",
   "execution_count": null,
   "metadata": {},
   "outputs": [],
   "source": [
    "from collections import defaultdict\n",
    "\n",
    "\n",
    "anchor_tags = soup.find_all('a')\n",
    "required_urls = defaultdict(list)\n",
    "for tag in anchor_tags:\n",
    "    href = tag['href']\n",
    "    category = tag.text.split(' ')[0]\n",
    "\n",
    "    cat_prefix = category[0] + 'XXXX'\n",
    "\n",
    "    linked_page_url = url + \"/\" + href\n",
    "\n",
    "    if not category[0].isdigit(): \n",
    "        required_urls['General'].append(['General', linked_page_url])\n",
    "    else:\n",
    "        required_urls[cat_prefix].append([category, linked_page_url])\n",
    "\n",
    "# print(required_urls)\n",
    "# print(required_urls['General'])"
   ]
  },
  {
   "cell_type": "code",
   "execution_count": null,
   "metadata": {},
   "outputs": [],
   "source": [
    "res = []\n",
    "required_count = 10\n",
    "for category in required_urls:\n",
    "    for sub_category, url in required_urls[category]:\n",
    "        print(f\"Processing {sub_category}\")\n",
    "        linked_page = requests.get(url)\n",
    "        linked_soup = BeautifulSoup(linked_page.content, 'html.parser')\n",
    "        divSoup = linked_soup.find(\"div\", {\"class\" : \"main\"})\n",
    "        ps = divSoup.findAll('p')\n",
    "\n",
    "        count = 0\n",
    "        for p in ps:\n",
    "            splits = p.text.split('\\n')\n",
    "\n",
    "            for line in splits:\n",
    "                if line != '': # Not having a check somehow leads to duplicates\n",
    "                    res.append([category, sub_category, line[2:]])\n",
    "                    count += 1\n",
    "                if count == required_count: break\n",
    "            if count == required_count: break"
   ]
  },
  {
   "cell_type": "code",
   "execution_count": null,
   "metadata": {},
   "outputs": [],
   "source": [
    "import pandas as pd\n",
    "\n",
    "# for key in res:\n",
    "    # print(len(res[key]))\n",
    "\n",
    "df = pd.DataFrame(res, columns=['Category', 'Sub Category', 'Data']).explode('Data').reset_index(drop=True)\n",
    "print(df)\n",
    "df.to_excel('output.xlsx', index=False)"
   ]
  }
 ],
 "metadata": {
  "kernelspec": {
   "display_name": "__venv",
   "language": "python",
   "name": "python3"
  },
  "language_info": {
   "codemirror_mode": {
    "name": "ipython",
    "version": 3
   },
   "file_extension": ".py",
   "mimetype": "text/x-python",
   "name": "python",
   "nbconvert_exporter": "python",
   "pygments_lexer": "ipython3",
   "version": "3.11.2"
  }
 },
 "nbformat": 4,
 "nbformat_minor": 2
}
