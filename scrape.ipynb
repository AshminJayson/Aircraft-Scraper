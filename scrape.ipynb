{
 "cells": [
  {
   "cell_type": "code",
   "execution_count": 1,
   "metadata": {},
   "outputs": [],
   "source": [
    "from bs4 import BeautifulSoup\n",
    "import requests\n",
    "\n",
    "url = 'https://www.eprbulletsafsc.com/'\n",
    "page = requests.get(url)\n",
    "soup = BeautifulSoup(page.content, 'html.parser')"
   ]
  },
  {
   "cell_type": "code",
   "execution_count": 2,
   "metadata": {},
   "outputs": [
    {
     "name": "stdout",
     "output_type": "stream",
     "text": [
      "defaultdict(<class 'list'>, {'General': [['General', 'https://www.eprbulletsafsc.com//aadd.htm', 'AADDEPR Bullets'], ['General', 'https://www.eprbulletsafsc.com//adverse-actions.htm', 'AdverseActions EPR Bullets'], ['General', 'https://www.eprbulletsafsc.com//ABDR.htm', 'AircraftBattle Damage Repair (ABDR)'], ['General', 'https://www.eprbulletsafsc.com//adopt-a-highway.htm', 'Adopta Highway Program'], ['General', 'https://www.eprbulletsafsc.com//adpe.htm', 'ADPEMonitor'], ['General', 'https://www.eprbulletsafsc.com//advisory-council.htm', 'AdvisoryCouncil'], ['General', 'https://www.eprbulletsafsc.com//airshow.htm', 'Airshowbullets'], ['General', 'https://www.eprbulletsafsc.com//award.htm', 'Awards'], ['General', 'https://www.eprbulletsafsc.com//booster-club.htm', 'BoosterClub'], ['General', 'https://www.eprbulletsafsc.com//BTZ.htm', 'BTZExamples'], ['General', 'https://www.eprbulletsafsc.com//building-custodian.htm', 'BuildingCustodian'], ['General', 'https://www.eprbulletsafsc.com//career-assistance-advisor.htm', 'CareerAssistance Advisor (CAA)'], ['General', 'https://www.eprbulletsafsc.com//CCAF.htm', 'CCAFExamples'], ['General', 'https://www.eprbulletsafsc.com//cdc.htm', 'CDCs'], ['General', 'https://www.eprbulletsafsc.com//CEM-superintendent.htm', 'CEM/Superintendent'], ['General', 'https://www.eprbulletsafsc.com//coined.htm', 'Coinedfor Performance'], ['General', 'https://www.eprbulletsafsc.com//controlled-area.htm', 'ControlledArea'], ['General', 'https://www.eprbulletsafsc.com//fundraiser.htm', 'CFC/Fundraisers'], ['General', 'https://www.eprbulletsafsc.com//change-of-command.htm', 'Changeof Command/Parade'], ['General', 'https://www.eprbulletsafsc.com//chaplain.htm', \"Chaplain'sAssistant\"], ['General', 'https://www.eprbulletsafsc.com//command-chief-executive-assistant.htm', 'CommandChief Executive Assistant'], ['General', 'https://www.eprbulletsafsc.com//community-service.htm', 'CommunityService'], ['General', 'https://www.eprbulletsafsc.com//comsec-custodian.htm', 'COMSECCustodian'], ['General', 'https://www.eprbulletsafsc.com//contracting.htm', 'Contracting'], ['General', 'https://www.eprbulletsafsc.com//covid.htm', 'COVID-19'], ['General', 'https://www.eprbulletsafsc.com//cpr.htm', 'CPR'], ['General', 'https://www.eprbulletsafsc.com//CTK.htm', 'CTK'], ['General', 'https://www.eprbulletsafsc.com//dorm.htm', 'Dorm'], ['General', 'https://www.eprbulletsafsc.com//DRMO.htm', 'DRMO'], ['General', 'https://www.eprbulletsafsc.com//DrugDemandReductionProgram.htm', 'DrugDemand Reduction Program Manager'], ['General', 'https://www.eprbulletsafsc.com//DTS.htm', 'DTS/DefenseTravel System'], ['General', 'https://www.eprbulletsafsc.com//education.htm', 'Education'], ['General', 'https://www.eprbulletsafsc.com//engine-manager.htm', 'EngineManager'], ['General', 'https://www.eprbulletsafsc.com//exercise.htm', 'Exercise'], ['General', 'https://www.eprbulletsafsc.com//finance.htm', 'Finance'], ['General', 'https://www.eprbulletsafsc.com//first-sergeant.htm', 'FirstSergeant'], ['General', 'https://www.eprbulletsafsc.com//fitness.htm', 'Fitness'], ['General', 'https://www.eprbulletsafsc.com//flightline.htm', 'FlightlineExpeditor'], ['General', 'https://www.eprbulletsafsc.com//followership-leadership.htm', 'Followership/Leadership'], ['General', 'https://www.eprbulletsafsc.com//FP.htm', 'ForceProtection'], ['General', 'https://www.eprbulletsafsc.com///FTAC.htm', 'FTAC'], ['General', 'https://www.eprbulletsafsc.com//fundraiser.htm', 'Fundraisers'], ['General', 'https://www.eprbulletsafsc.com//gpc.htm', 'GPCHolder'], ['General', 'https://www.eprbulletsafsc.com//green-dot.htm', 'GreenDot Training'], ['General', 'https://www.eprbulletsafsc.com//habitat-for-humanity.htm', 'Habitatfor Humanity'], ['General', 'https://www.eprbulletsafsc.com//honor-guard.htm', 'HonorGuard'], ['General', 'https://www.eprbulletsafsc.com//human-resource-management.htm', 'HumanResource Management'], ['General', 'https://www.eprbulletsafsc.com//hurricane.htm', 'Hurricane/StormPrep'], ['General', 'https://www.eprbulletsafsc.com//HWAPM.htm', 'HazWaste Accumulation Point Manager'], ['General', 'https://www.eprbulletsafsc.com//inspection.htm', 'Inspection'], ['General', 'https://www.eprbulletsafsc.com//inspector-general.htm', 'InspectorGeneral/IG'], ['General', 'https://www.eprbulletsafsc.com//instructor.htm', 'Instructor'], ['General', 'https://www.eprbulletsafsc.com//intel.htm', 'Intel'], ['General', 'https://www.eprbulletsafsc.com//leadership.htm', 'Leadership'], ['General', 'https://www.eprbulletsafsc.com///MOC.htm', 'MaintenanceOperations Center (MOC)'], ['General', 'https://www.eprbulletsafsc.com///meals-on-wheels.htm', 'Mealson Wheels'], ['General', 'https://www.eprbulletsafsc.com///medical.htm', 'Medical'], ['General', 'https://www.eprbulletsafsc.com///mentor.htm', 'Mentor'], ['General', 'https://www.eprbulletsafsc.com///MICT.htm', 'MICT'], ['General', 'https://www.eprbulletsafsc.com///NCOIC.htm', 'NCOIC'], ['General', 'https://www.eprbulletsafsc.com///PME.htm', 'PME'], ['General', 'https://www.eprbulletsafsc.com///prisoner-escort.htm', 'PrisonerEscort/SP Augmentee'], ['General', 'https://www.eprbulletsafsc.com///professional-development.htm', 'ProfessionalDevelopment'], ['General', 'https://www.eprbulletsafsc.com///promotion-statements.htm', 'PromotionStatements'], ['General', 'https://www.eprbulletsafsc.com///protocol.htm', 'Protocol'], ['General', 'https://www.eprbulletsafsc.com///PTL.htm', 'PTL'], ['General', 'https://www.eprbulletsafsc.com///qa.htm', 'QualityAssurance'], ['General', 'https://www.eprbulletsafsc.com///readiness.htm', 'Readiness/MobilityTraining'], ['General', 'https://www.eprbulletsafsc.com///recruiter.htm', 'Recruiter'], ['General', 'https://www.eprbulletsafsc.com//referral.htm', 'ReferralEPR'], ['General', 'https://www.eprbulletsafsc.com//resource-advisor.htm', 'ResourceAdvisor'], ['General', 'https://www.eprbulletsafsc.com//retirement.htm', 'Retirement'], ['General', 'https://www.eprbulletsafsc.com//retreat.htm', 'Retreat/Changeof Command'], ['General', 'https://www.eprbulletsafsc.com//safety.htm', 'Safety'], ['General', 'https://www.eprbulletsafsc.com//SABC.htm', 'Self-Aid& Buddy Care'], ['General', 'https://www.eprbulletsafsc.com//security.htm', 'Security/ForceProtection'], ['General', 'https://www.eprbulletsafsc.com//security-manager.htm', 'SecurityManager'], ['General', 'https://www.eprbulletsafsc.com///SEJPME.htm', 'SeniorEnlisted Joint PME (SEJPME)'], ['General', 'https://www.eprbulletsafsc.com//SAPR.htm', 'SexualAssault Prevention and Response (SAPR)'], ['General', 'https://www.eprbulletsafsc.com//supply-management.htm', 'SupplyManagement'], ['General', 'https://www.eprbulletsafsc.com//to.htm', 'T.O.Monitor/TODA'], ['General', 'https://www.eprbulletsafsc.com//team-development.htm', 'TeamGrowth/ Development'], ['General', 'https://www.eprbulletsafsc.com//training.htm', 'Training'], ['General', 'https://www.eprbulletsafsc.com//ucc.htm', 'UnitControl Center (UCC)'], ['General', 'https://www.eprbulletsafsc.com//uci.htm', 'UnitCompliance Inspection/UCI'], ['General', 'https://www.eprbulletsafsc.com//unit-deployment-manager.htm', 'UnitDeployment Manager'], ['General', 'https://www.eprbulletsafsc.com//UFPM.htm', 'UnitFitness Program Manager (UFPM)'], ['General', 'https://www.eprbulletsafsc.com//unit-health-monitor.htm', 'UnitHealth Monitor'], ['General', 'https://www.eprbulletsafsc.com//unit-training-manager.htm', 'UnitTraining Manager (UTM)'], ['General', 'https://www.eprbulletsafsc.com//unit-voting-assistance-officer.htm', 'UnitVoting Assistance Officer'], ['General', 'https://www.eprbulletsafsc.com//urinalysis-observer.htm', 'UrinalysisObserver'], ['General', 'https://www.eprbulletsafsc.com//vehicle-control-officer.htm', 'VehicleControl Officer'], ['General', 'https://www.eprbulletsafsc.com//volunteer.htm', 'Volunteer'], ['General', 'https://www.eprbulletsafsc.com//whole-airman-concept.htm', 'WholeAirman Concept'], ['General', 'https://www.eprbulletsafsc.com//wit.htm', 'WingInspection Team'], ['General', 'https://www.eprbulletsafsc.com///disclaimer.htm', 'Disclaimer'], ['General', 'https://www.eprbulletsafsc.com//mailto:admin@eprbulletsafsc.com', 'admin@eprbulletsafsc.com']]})\n"
     ]
    }
   ],
   "source": [
    "from collections import defaultdict\n",
    "\n",
    "\n",
    "anchor_tags = soup.find_all('a')\n",
    "required_urls = defaultdict(list)\n",
    "for tag in anchor_tags:\n",
    "    href = tag['href']\n",
    "    tag_split = tag.text.split(' ')\n",
    "    category = tag_split[0]\n",
    "    sub_category_title = ' '.join(tag_split[1:])\n",
    "\n",
    "    cat_prefix = category[0] + 'XXXX'\n",
    "\n",
    "    linked_page_url = url + \"/\" + href\n",
    "\n",
    "    if not category[0].isdigit(): \n",
    "        required_urls['General'].append(['General', linked_page_url, category + ' ' + sub_category_title])\n",
    "    else:\n",
    "        required_urls[cat_prefix].append([category, linked_page_url, sub_category_title])\n",
    "\n",
    "print(required_urls)\n",
    "# print(required_urls['General'])"
   ]
  },
  {
   "cell_type": "code",
   "execution_count": 3,
   "metadata": {},
   "outputs": [
    {
     "name": "stdout",
     "output_type": "stream",
     "text": [
      "Processing General - AADDEPR Bullets\n",
      "Processing General - AdverseActions EPR Bullets\n",
      "Processing General - AircraftBattle Damage Repair (ABDR)\n",
      "Processing General - Adopta Highway Program\n",
      "Processing General - ADPEMonitor\n",
      "Processing General - AdvisoryCouncil\n",
      "Processing General - Airshowbullets\n",
      "Processing General - Awards\n",
      "Processing General - BoosterClub\n",
      "Processing General - BTZExamples\n",
      "Processing General - BuildingCustodian\n",
      "Processing General - CareerAssistance Advisor (CAA)\n",
      "Processing General - CCAFExamples\n",
      "Processing General - CDCs\n",
      "Processing General - CEM/Superintendent\n",
      "Processing General - Coinedfor Performance\n",
      "Processing General - ControlledArea\n",
      "Processing General - CFC/Fundraisers\n",
      "Processing General - Changeof Command/Parade\n",
      "Processing General - Chaplain'sAssistant\n",
      "Processing General - CommandChief Executive Assistant\n",
      "Processing General - CommunityService\n",
      "Processing General - COMSECCustodian\n",
      "Processing General - Contracting\n",
      "Processing General - COVID-19\n",
      "Processing General - CPR\n",
      "Processing General - CTK\n",
      "Processing General - Dorm\n"
     ]
    }
   ],
   "source": [
    "res = []\n",
    "required_count = 10\n",
    "for category in required_urls:\n",
    "    for sub_category, url, sub_category_title in required_urls[category]:\n",
    "        print(f\"Processing {sub_category} - {sub_category_title}\")\n",
    "        linked_page = requests.get(url)\n",
    "        linked_soup = BeautifulSoup(linked_page.content, 'html.parser')\n",
    "        divSoup = linked_soup.find(\"div\", {\"class\" : \"main\"})\n",
    "        ps = divSoup.findAll('p')\n",
    "\n",
    "        count = 0\n",
    "        for p in ps:\n",
    "            splits = p.text.split('\\n')\n",
    "\n",
    "            for line in splits:\n",
    "                if line != '': # Not having a check somehow leads to duplicates\n",
    "                    res.append([category, sub_category, sub_category_title, line[2:]])\n",
    "                    count += 1\n",
    "                if count == required_count: break\n",
    "            if count == required_count: break"
   ]
  },
  {
   "cell_type": "code",
   "execution_count": null,
   "metadata": {},
   "outputs": [],
   "source": [
    "import pandas as pd\n",
    "\n",
    "# for key in res:\n",
    "    # print(len(res[key]))\n",
    "\n",
    "df = pd.DataFrame(res, columns=['Category', 'Sub Category', 'Sub Category Title', 'Data']).explode('Data').reset_index(drop=True)\n",
    "print(df)\n",
    "df.to_excel('output.xlsx', index=False)"
   ]
  }
 ],
 "metadata": {
  "kernelspec": {
   "display_name": "__venv",
   "language": "python",
   "name": "python3"
  },
  "language_info": {
   "codemirror_mode": {
    "name": "ipython",
    "version": 3
   },
   "file_extension": ".py",
   "mimetype": "text/x-python",
   "name": "python",
   "nbconvert_exporter": "python",
   "pygments_lexer": "ipython3",
   "version": "3.11.2"
  }
 },
 "nbformat": 4,
 "nbformat_minor": 2
}
